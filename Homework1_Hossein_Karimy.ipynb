{
  "nbformat": 4,
  "nbformat_minor": 0,
  "metadata": {
    "colab": {
      "name": "Homework1 - Hossein Karimy.ipynb",
      "provenance": [],
      "collapsed_sections": []
    },
    "kernelspec": {
      "name": "python3",
      "display_name": "Python 3"
    }
  },
  "cells": [
    {
      "cell_type": "markdown",
      "metadata": {
        "id": "IcgTyokF9s3f"
      },
      "source": [
        "# Hossein Karimy\r\n",
        "\r\n",
        "---\r\n",
        "\r\n"
      ]
    },
    {
      "cell_type": "markdown",
      "metadata": {
        "id": "y469f-uX7xuV"
      },
      "source": [
        "# 1.Importing the needed packages "
      ]
    },
    {
      "cell_type": "code",
      "metadata": {
        "id": "pRrAied7VU-b"
      },
      "source": [
        "import tensorflow as tf\r\n",
        "from tensorflow.keras import datasets, layers, models, optimizers\r\n",
        "import matplotlib.pyplot as plt\r\n",
        "import itertools\r\n"
      ],
      "execution_count": null,
      "outputs": []
    },
    {
      "cell_type": "markdown",
      "metadata": {
        "id": "HHJCiX9X76jz"
      },
      "source": [
        "# 2.Downloading the dataset"
      ]
    },
    {
      "cell_type": "code",
      "metadata": {
        "id": "9j8k0HTIVBw_"
      },
      "source": [
        "#DownloadandpreparetheCIFAR-10dataset\r\n",
        "(trainImages,trainLabels),(testImages,testLabels) = datasets.cifar10.load_data()"
      ],
      "execution_count": 5,
      "outputs": []
    },
    {
      "cell_type": "markdown",
      "metadata": {
        "id": "upPYQNNF8GRP"
      },
      "source": [
        "# 3. Normalizing the data"
      ]
    },
    {
      "cell_type": "code",
      "metadata": {
        "id": "q2gYqBWmVbsJ"
      },
      "source": [
        "#Normalize pixel values to be between 0 and 1 \r\n",
        "trainImages,testImages=trainImages/255.0,testImages/255.0"
      ],
      "execution_count": 6,
      "outputs": []
    },
    {
      "cell_type": "markdown",
      "metadata": {
        "id": "N3Mw7n2P8JdO"
      },
      "source": [
        "# 3.1 Can show the images"
      ]
    },
    {
      "cell_type": "code",
      "metadata": {
        "id": "xWaveIJjVs3u"
      },
      "source": [
        "classNames = ['AirPlane', 'Automobile', 'Bird', 'Cat', 'Deer',\r\n",
        "               'Dog', 'Frog', 'Horse', 'Ship', 'Truck']\r\n",
        "\r\n",
        "plt.figure(figsize=(10,10))\r\n",
        "for i in range(25):\r\n",
        "    plt.subplot(5,5,i+1)\r\n",
        "    plt.xticks([])\r\n",
        "    plt.yticks([])\r\n",
        "    plt.grid(False)\r\n",
        "    plt.imshow(trainImages[i], cmap=plt.cm.binary)\r\n",
        "    # The CIFAR labels happen to be arrays, \r\n",
        "    # which is why you need the extra index\r\n",
        "    plt.xlabel(classNames[trainLabels[i][0]])\r\n",
        "plt.show()"
      ],
      "execution_count": null,
      "outputs": []
    },
    {
      "cell_type": "markdown",
      "metadata": {
        "id": "oovItRec8jYE"
      },
      "source": [
        "# 4. Initialization \r\n",
        "*   We can have any number of optimizer in the \"opts\" array\r\n",
        "*   \"learningRates\" contains given learning rates\r\n",
        "*   \"actFuncs\" includes any number of activation function \r\n",
        "\r\n",
        "\r\n",
        "\r\n"
      ]
    },
    {
      "cell_type": "code",
      "metadata": {
        "id": "0dZ9B-yXXnby"
      },
      "source": [
        "class CompiledModel:\r\n",
        "  def __init__(self, model, actFunc, opt): \r\n",
        "        self.model = model\r\n",
        "        self.actFunc = actFunc\r\n",
        "        self.opt = type(opt).__name__\r\n",
        "        self.learningRate = str(round(opt.learning_rate.numpy(), 3))\r\n",
        "  def getTitle(self):\r\n",
        "      return f'Model {self.actFunc}, {self.opt}, {self.learningRate}'\r\n",
        "  \r\n",
        "\r\n",
        "opts =[\r\n",
        "       tf.keras.optimizers.Adam(), \r\n",
        "       #tf.keras.optimizers.Nadam(),\r\n",
        "       #tf.keras.optimizers.SGD(),\r\n",
        "       #tf.keras.optimizers.RMSprop(),\r\n",
        "       ]\r\n",
        "\r\n",
        "learningRates = [0.01, 0.1, 0.5, 0.9]\r\n",
        "actFuncs = ['relu', \r\n",
        "         #   'softmax', \r\n",
        "          #  'sigmoid', \r\n",
        "           # 'linear'\r\n",
        "            ]\r\n"
      ],
      "execution_count": 11,
      "outputs": []
    },
    {
      "cell_type": "markdown",
      "metadata": {
        "id": "g_nAYBLV9EL5"
      },
      "source": [
        "# 5. Generating a grid including any combination of \r\n",
        "> acttivation_funcations x optimizer x learning rates\r\n",
        "\r\n"
      ]
    },
    {
      "cell_type": "code",
      "metadata": {
        "id": "zdaQRROAX5Z-",
        "colab": {
          "base_uri": "https://localhost:8080/"
        },
        "outputId": "5391eb6e-9f8d-4315-ea78-732f59bace7d"
      },
      "source": [
        "\r\n",
        "compiledModels = []\r\n",
        "for actFunc in actFuncs:\r\n",
        "  for opt in opts:\r\n",
        "    for lr in learningRates:\r\n",
        "      model = models.Sequential()\r\n",
        "      model.add(layers.Conv2D(32, (3, 3), activation= actFunc, input_shape=(32, 32, 3)))\r\n",
        "      model.add(layers.MaxPooling2D((2, 2)))\r\n",
        "      model.add(layers.Conv2D(64, (3, 3), activation= actFunc))\r\n",
        "      model.add(layers.MaxPooling2D((2, 2)))\r\n",
        "      model.add(layers.Conv2D(64, (3, 3), activation= actFunc))\r\n",
        "      model.add(layers.Flatten())\r\n",
        "      model.add(layers.Dense(64, activation= actFunc))\r\n",
        "      model.add(layers.Dense(10))\r\n",
        "      opt.learning_rate = lr\r\n",
        "      model.compile(optimizer=opt,\r\n",
        "                    loss=tf.keras.losses.SparseCategoricalCrossentropy(from_logits=True),\r\n",
        "                    metrics=['accuracy'])\r\n",
        "      compModel = CompiledModel(model, actFunc, opt)\r\n",
        "      \r\n",
        "      compiledModels.append(compModel)\r\n",
        "\r\n",
        "print(f'Compiled {len(compiledModels)} models')\r\n"
      ],
      "execution_count": 12,
      "outputs": [
        {
          "output_type": "stream",
          "text": [
            "Compiled 4 models\n"
          ],
          "name": "stdout"
        }
      ]
    },
    {
      "cell_type": "markdown",
      "metadata": {
        "id": "k7zg4Xeb9VVH"
      },
      "source": [
        "# 6. Training the models"
      ]
    },
    {
      "cell_type": "code",
      "metadata": {
        "id": "kcJZqQ2WiHCX",
        "colab": {
          "base_uri": "https://localhost:8080/"
        },
        "outputId": "7789a929-bf8c-4bc9-eaae-177d6a175b8b"
      },
      "source": [
        "for cmpModel in compiledModels:\r\n",
        "  print(cmpModel.getTitle())\r\n",
        "  cmpModel.history = cmpModel.model.fit(trainImages, trainLabels, epochs=10, \r\n",
        "                    validation_data=(testImages, testLabels))"
      ],
      "execution_count": 16,
      "outputs": [
        {
          "output_type": "stream",
          "text": [
            "Model relu, Adam, 0.01\n",
            "1563/1563 [==============================] - 32s 20ms/step - loss: 2.4048 - accuracy: 0.1000 - val_loss: 2.4613 - val_accuracy: 0.1000\n",
            "Model relu, Adam, 0.1\n",
            "1563/1563 [==============================] - 29s 18ms/step - loss: 195105028.7854 - accuracy: 0.0987 - val_loss: 2.3483 - val_accuracy: 0.1000\n",
            "Model relu, Adam, 0.5\n",
            "1563/1563 [==============================] - 25s 15ms/step - loss: 657984174.9427 - accuracy: 0.0973 - val_loss: 2.4196 - val_accuracy: 0.1000\n",
            "Model relu, Adam, 0.9\n",
            "1563/1563 [==============================] - 27s 17ms/step - loss: 424705237.3749 - accuracy: 0.0983 - val_loss: 2.4594 - val_accuracy: 0.1000\n"
          ],
          "name": "stdout"
        }
      ]
    },
    {
      "cell_type": "markdown",
      "metadata": {
        "id": "ZgYMZzkk9bpj"
      },
      "source": [
        "# 7. Evaluating the models and showing a plot for each"
      ]
    },
    {
      "cell_type": "code",
      "metadata": {
        "id": "COg1OwH-ax-B",
        "colab": {
          "base_uri": "https://localhost:8080/",
          "height": 352
        },
        "outputId": "cf4df698-c136-48b3-dbb9-9c75b8fa015f"
      },
      "source": [
        "for compModel in compiledModels:\r\n",
        "  plt.plot(compModel.history.history['accuracy'], label=f'{compModel.getTitle()} accuracy')\r\n",
        "  plt.plot(compModel.history.history['val_accuracy'], label = f'{compModel.getTitle()} val_accuracy')\r\n",
        "  plt.xlabel('Epoch')\r\n",
        "  plt.ylabel('Accuracy')\r\n",
        "  plt.ylim([0.1, 1])\r\n",
        "  plt.legend(loc='lower right')\r\n",
        "  plt.title = compModel.getTitle()\r\n",
        "\r\n",
        "  test_loss, test_acc = model.evaluate(testImages,  testLabels, verbose=2)"
      ],
      "execution_count": 22,
      "outputs": [
        {
          "output_type": "stream",
          "text": [
            "313/313 - 2s - loss: 2.4594 - accuracy: 0.1000\n",
            "313/313 - 1s - loss: 2.4594 - accuracy: 0.1000\n",
            "313/313 - 1s - loss: 2.4594 - accuracy: 0.1000\n",
            "313/313 - 1s - loss: 2.4594 - accuracy: 0.1000\n"
          ],
          "name": "stdout"
        },
        {
          "output_type": "display_data",
          "data": {
            "text/plain": [
              "<Figure size 432x288 with 1 Axes>"
            ],
            "image/png": "[encoded data removed]"
          },
          "metadata": {
            "tags": [],
            "needs_background": "light"
          }
        }
      ]
    }
  ]
}